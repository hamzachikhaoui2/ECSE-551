{
 "cells": [
  {
   "cell_type": "markdown",
   "id": "889c67c4",
   "metadata": {},
   "source": [
    "# READ ME\n",
    "\n",
    "This project contains the following files:\n",
    "\n",
    " - *MP3.ipynb* : Aymen's notebook where he did all his iterations\n",
    " - *MP3_iterations.ipynb* : Hamza's notebook where he did all his iterations"
   ]
  },
  {
   "cell_type": "code",
   "execution_count": null,
   "id": "06eb49bd",
   "metadata": {},
   "outputs": [],
   "source": []
  }
 ],
 "metadata": {
  "kernelspec": {
   "display_name": "Python 3 (ipykernel)",
   "language": "python",
   "name": "python3"
  },
  "language_info": {
   "codemirror_mode": {
    "name": "ipython",
    "version": 3
   },
   "file_extension": ".py",
   "mimetype": "text/x-python",
   "name": "python",
   "nbconvert_exporter": "python",
   "pygments_lexer": "ipython3",
   "version": "3.11.1"
  }
 },
 "nbformat": 4,
 "nbformat_minor": 5
}
